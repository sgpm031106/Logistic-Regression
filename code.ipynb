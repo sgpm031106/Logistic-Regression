{
 "cells": [
  {
   "cell_type": "code",
   "execution_count": 45,
   "metadata": {},
   "outputs": [],
   "source": [
    "#Importamos todas las librerias necesarias que serviran desde poder cargar el CSV, hasta poder procesar el texto, aplicar el entrenamiento y graficar\n",
    "import pandas as pd\n",
    "import re\n",
    "import nltk\n",
    "from nltk.corpus import stopwords\n",
    "from sklearn.model_selection import train_test_split\n",
    "from sklearn.feature_extraction.text import CountVectorizer\n",
    "from sklearn.linear_model import LogisticRegression\n",
    "from sklearn.metrics import accuracy_score, classification_report, confusion_matrix\n",
    "from textblob import TextBlob\n",
    "import seaborn as sns\n",
    "import matplotlib.pyplot as plt"
   ]
  },
  {
   "cell_type": "code",
   "execution_count": null,
   "metadata": {},
   "outputs": [],
   "source": [
    "#definir las stopwords cargadas por la libreria\n",
    "nltk.download('stopwords')"
   ]
  },
  {
   "cell_type": "code",
   "execution_count": 17,
   "metadata": {},
   "outputs": [],
   "source": [
    "#cargar el csv y definir las stopwords\n",
    "df = pd.read_csv('straight_outta_compton_reviews.csv')\n",
    "\n",
    "#convertir todas las reseñas a cadenas\n",
    "df['review'] = df['review'].astype(str)\n",
    "\n",
    "stop_words = set(stopwords.words('english'))"
   ]
  },
  {
   "cell_type": "code",
   "execution_count": 20,
   "metadata": {},
   "outputs": [],
   "source": [
    "#Creamos al funcion de procesamiento de texto donde quitaremoa caracteres innecesarios, convertiremos a minusculas, dividiremos el texto y eliminaremos stopwords\n",
    "def preprocess_text(text):\n",
    "    if isinstance(text, str):  # Asegurarse de que el texto es una cadena\n",
    "        # Eliminar caracteres especiales\n",
    "        text = re.sub(r'[^a-zA-ZáéíóúñÁÉÍÓÚÑ\\s]', '', text)\n",
    "        # Convertir a minúsculas\n",
    "        text = text.lower()\n",
    "        # Tokenizar y eliminar stop words\n",
    "        text = ' '.join(word for word in text.split() if word not in stop_words)\n",
    "        return text\n",
    "    return ''"
   ]
  },
  {
   "cell_type": "code",
   "execution_count": 21,
   "metadata": {},
   "outputs": [],
   "source": [
    "#aplicar el procesamiento para las reseñas\n",
    "df['cleaned_review'] = df['review'].apply(preprocess_text)"
   ]
  },
  {
   "cell_type": "code",
   "execution_count": null,
   "metadata": {},
   "outputs": [],
   "source": [
    "print(df.head)"
   ]
  },
  {
   "cell_type": "code",
   "execution_count": null,
   "metadata": {},
   "outputs": [],
   "source": [
    "#creamos el nuevo csv con el texto procesado\n",
    "df.to_csv('straight_outta_compton_reviews_with_labels.csv', index=False)\n",
    "print(\"Reseñas procesadas guardadas en 'straight_outta_compton_reviews_with_labels.csv'.\")"
   ]
  },
  {
   "cell_type": "code",
   "execution_count": null,
   "metadata": {},
   "outputs": [],
   "source": [
    "#cargamos el nuevo csv\n",
    "df = pd.read_csv('straight_outta_compton_reviews_with_labels.csv')\n",
    "\n",
    "#vemos los primeros registros para corroborar\n",
    "print(df.head())"
   ]
  },
  {
   "cell_type": "code",
   "execution_count": 29,
   "metadata": {},
   "outputs": [],
   "source": [
    "#crearemos la funcion para obtener etiquetas de sentimiento\n",
    "def get_sentiment(label):\n",
    "\n",
    "    #con libreria textblob analizamos el sentimiento\n",
    "    analysis = TextBlob(label)\n",
    "\n",
    "    if analysis.sentiment.polarity > 0:\n",
    "        return 1 #positiva\n",
    "    else:\n",
    "        return 0 #negativa\n",
    "    \n",
    "df['label'] = df['cleaned_review'].apply(get_sentiment)"
   ]
  },
  {
   "cell_type": "code",
   "execution_count": 32,
   "metadata": {},
   "outputs": [],
   "source": [
    "#dividiremos los datos en dos conjuntos: entrenamiento y prueba\n",
    "\n",
    "X = df['cleaned_review'] #reseñas procesadas\n",
    "Y = df['label'] #etiquetas de positivo y negativo\n",
    "\n",
    "X_train, X_test, y_train, y_test = train_test_split(X,Y, test_size = 0.2, random_state=42)\n",
    "\n"
   ]
  },
  {
   "cell_type": "code",
   "execution_count": null,
   "metadata": {},
   "outputs": [],
   "source": [
    "#convertiremos al texto a vectores numericos para poder entrenar el modelo\n",
    "vectorizer = CountVectorizer()\n",
    "\n",
    "X_train_vec = vectorizer.fit_transform(X_train)\n",
    "X_test_vec = vectorizer.transform(X_test)\n",
    "\n",
    "#Entrenar el modelo de regresion logistica\n",
    "model = LogisticRegression()\n",
    "model.fit(X_train_vec, y_train)"
   ]
  },
  {
   "cell_type": "code",
   "execution_count": null,
   "metadata": {},
   "outputs": [],
   "source": [
    "#Ahora evaluaremos el modelo con el conjunto de prueba para su precision\n",
    "y_pred = model.predict(X_test_vec)\n",
    "\n",
    "#Evaluaremos la precision del modelo\n",
    "accuracy = accuracy_score(y_test, y_pred)\n",
    "print(f\"Precision del modelo: {accuracy * 100:.2f}%\")\n",
    "\n",
    "#Mostrar el reporte de clasificacion\n",
    "print(classification_report(y_test, y_pred))"
   ]
  },
  {
   "cell_type": "code",
   "execution_count": null,
   "metadata": {},
   "outputs": [],
   "source": [
    "#Creamos matriz de confusion y la mostramos\n",
    "cm = confusion_matrix(y_test, y_pred)\n",
    "\n",
    "plt.figure(figsize=(8,6))\n",
    "sns.heatmap(cm, annot=True, fmt='d', cmap='Blues', xticklabels=['Negativo', 'Positivo'], yticklabels=['Negativo', 'Positivo'])\n",
    "plt.xlabel('Prediccion')\n",
    "plt.ylabel('Real')\n",
    "plt.title('Matriz de confusion')\n",
    "plt.show()"
   ]
  },
  {
   "cell_type": "code",
   "execution_count": null,
   "metadata": {},
   "outputs": [],
   "source": [
    "# Crear un nuevo DataFrame con las reseñas, etiquetas reales y predicciones\n",
    "df_results = pd.DataFrame({\n",
    "    'review': X_test,\n",
    "    'label': y_test,\n",
    "    'predicted_label': y_pred\n",
    "})\n",
    "\n",
    "# Guardar los resultados en un nuevo CSV\n",
    "df_results.to_csv('straight_outta_compton_classification_results.csv', index=False)\n",
    "print(\"Resultados guardados en 'straight_outta_compton_classification_results.csv'.\")"
   ]
  },
  {
   "cell_type": "markdown",
   "metadata": {},
   "source": [
    "## Los datos guardados en el nuevo CSV se importaran a power BI donde se graficaran los resultados de la prediccion."
   ]
  }
 ],
 "metadata": {
  "kernelspec": {
   "display_name": "Python 3",
   "language": "python",
   "name": "python3"
  },
  "language_info": {
   "codemirror_mode": {
    "name": "ipython",
    "version": 3
   },
   "file_extension": ".py",
   "mimetype": "text/x-python",
   "name": "python",
   "nbconvert_exporter": "python",
   "pygments_lexer": "ipython3",
   "version": "3.12.5"
  }
 },
 "nbformat": 4,
 "nbformat_minor": 2
}
